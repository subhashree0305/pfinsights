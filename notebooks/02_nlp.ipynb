{
 "cells": [
  {
   "cell_type": "markdown",
   "metadata": {},
   "source": [
    "In 01_ we scraped data about attitudes to finance and saved the data. We will build upon this here.\n",
    "\n",
    "Objective:\n",
    "    - using Latent Dirichlet Allocation, obtain key topics of discussion and cluster documents based on topics"
   ]
  },
  {
   "cell_type": "code",
   "execution_count": 1,
   "metadata": {
    "collapsed": true
   },
   "outputs": [],
   "source": [
    "import pandas as pd\n",
    "import numpy as np\n",
    "import matplotlib.pyplot as plt\n",
    "%matplotlib inline\n",
    "import praw\n",
    "import pyLDAvis"
   ]
  },
  {
   "cell_type": "code",
   "execution_count": 2,
   "metadata": {
    "collapsed": false
   },
   "outputs": [
    {
     "name": "stdout",
     "output_type": "stream",
     "text": [
      "(310, 8)\n"
     ]
    },
    {
     "data": {
      "text/html": [
       "<div>\n",
       "<style>\n",
       "    .dataframe thead tr:only-child th {\n",
       "        text-align: right;\n",
       "    }\n",
       "\n",
       "    .dataframe thead th {\n",
       "        text-align: left;\n",
       "    }\n",
       "\n",
       "    .dataframe tbody tr th {\n",
       "        vertical-align: top;\n",
       "    }\n",
       "</style>\n",
       "<table border=\"1\" class=\"dataframe\">\n",
       "  <thead>\n",
       "    <tr style=\"text-align: right;\">\n",
       "      <th></th>\n",
       "      <th>id</th>\n",
       "      <th>body</th>\n",
       "      <th>ups</th>\n",
       "      <th>downs</th>\n",
       "      <th>depth</th>\n",
       "      <th>score</th>\n",
       "      <th>edited</th>\n",
       "      <th>created</th>\n",
       "    </tr>\n",
       "  </thead>\n",
       "  <tbody>\n",
       "    <tr>\n",
       "      <th>0</th>\n",
       "      <td>ey27v7c</td>\n",
       "      <td>Interesting perspective on considering afforda...</td>\n",
       "      <td>133</td>\n",
       "      <td>0</td>\n",
       "      <td>0</td>\n",
       "      <td>133</td>\n",
       "      <td>Unedited</td>\n",
       "      <td>1.566758e+09</td>\n",
       "    </tr>\n",
       "    <tr>\n",
       "      <th>1</th>\n",
       "      <td>ey2e57v</td>\n",
       "      <td>This is a good point. In college, I worked a m...</td>\n",
       "      <td>784</td>\n",
       "      <td>0</td>\n",
       "      <td>0</td>\n",
       "      <td>784</td>\n",
       "      <td>Unedited</td>\n",
       "      <td>1.566765e+09</td>\n",
       "    </tr>\n",
       "    <tr>\n",
       "      <th>2</th>\n",
       "      <td>ey26lfn</td>\n",
       "      <td>This also is a good way to perceive your money...</td>\n",
       "      <td>611</td>\n",
       "      <td>0</td>\n",
       "      <td>0</td>\n",
       "      <td>611</td>\n",
       "      <td>Unedited</td>\n",
       "      <td>1.566756e+09</td>\n",
       "    </tr>\n",
       "    <tr>\n",
       "      <th>3</th>\n",
       "      <td>ey2kaoe</td>\n",
       "      <td>I see a lot of posts on here where people regr...</td>\n",
       "      <td>39</td>\n",
       "      <td>0</td>\n",
       "      <td>0</td>\n",
       "      <td>39</td>\n",
       "      <td>Unedited</td>\n",
       "      <td>1.566771e+09</td>\n",
       "    </tr>\n",
       "    <tr>\n",
       "      <th>4</th>\n",
       "      <td>ey2agnc</td>\n",
       "      <td>My father is a retired auto mechanic. How much...</td>\n",
       "      <td>170</td>\n",
       "      <td>0</td>\n",
       "      <td>0</td>\n",
       "      <td>170</td>\n",
       "      <td>Edited</td>\n",
       "      <td>1.566761e+09</td>\n",
       "    </tr>\n",
       "  </tbody>\n",
       "</table>\n",
       "</div>"
      ],
      "text/plain": [
       "        id                                               body  ups  downs  \\\n",
       "0  ey27v7c  Interesting perspective on considering afforda...  133      0   \n",
       "1  ey2e57v  This is a good point. In college, I worked a m...  784      0   \n",
       "2  ey26lfn  This also is a good way to perceive your money...  611      0   \n",
       "3  ey2kaoe  I see a lot of posts on here where people regr...   39      0   \n",
       "4  ey2agnc  My father is a retired auto mechanic. How much...  170      0   \n",
       "\n",
       "   depth  score    edited       created  \n",
       "0      0    133  Unedited  1.566758e+09  \n",
       "1      0    784  Unedited  1.566765e+09  \n",
       "2      0    611  Unedited  1.566756e+09  \n",
       "3      0     39  Unedited  1.566771e+09  \n",
       "4      0    170    Edited  1.566761e+09  "
      ]
     },
     "execution_count": 2,
     "metadata": {},
     "output_type": "execute_result"
    }
   ],
   "source": [
    "df_att = pd.read_pickle('../data/attitudes_to_finance.pkl')\n",
    "print(df_att.shape)\n",
    "df_att.head()"
   ]
  },
  {
   "cell_type": "code",
   "execution_count": null,
   "metadata": {
    "collapsed": true
   },
   "outputs": [],
   "source": [
    "Observations on the dataset:\n",
    "    - "
   ]
  }
 ],
 "metadata": {
  "kernelspec": {
   "display_name": "Python 3",
   "language": "python",
   "name": "python3"
  },
  "language_info": {
   "codemirror_mode": {
    "name": "ipython",
    "version": 3
   },
   "file_extension": ".py",
   "mimetype": "text/x-python",
   "name": "python",
   "nbconvert_exporter": "python",
   "pygments_lexer": "ipython3",
   "version": "3.5.3"
  }
 },
 "nbformat": 4,
 "nbformat_minor": 0
}
