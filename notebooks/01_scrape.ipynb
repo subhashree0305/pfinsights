{
 "cells": [
  {
   "cell_type": "markdown",
   "metadata": {},
   "source": [
    "Objective:\n",
    "    - scrape data from the personal finance reddit thread\n",
    "\n",
    "We will use PRAW for this (python wrapper for the Reddit API)"
   ]
  },
  {
   "cell_type": "code",
   "execution_count": null,
   "metadata": {
    "collapsed": true
   },
   "outputs": [],
   "source": [
    "#  For reddit API\n",
    "!pip install praw"
   ]
  },
  {
   "cell_type": "code",
   "execution_count": 1,
   "metadata": {
    "collapsed": true
   },
   "outputs": [],
   "source": [
    "import pandas as pd\n",
    "import numpy as np\n",
    "import matplotlib.pyplot as plt\n",
    "%matplotlib inline\n",
    "import praw\n",
    "import yaml\n",
    "cred = yaml.load(open('./auth/auth.yaml'))"
   ]
  },
  {
   "cell_type": "code",
   "execution_count": 21,
   "metadata": {
    "collapsed": false
   },
   "outputs": [
    {
     "data": {
      "text/plain": [
       "{'auth': {'client': 'gGFI0Pf5eKyIZg',\n",
       "  'name': 'RedHomePF',\n",
       "  'pass': 'jFeFwCvg3Zmg0XmYE9CeK4vEU0w'}}"
      ]
     },
     "execution_count": 21,
     "metadata": {},
     "output_type": "execute_result"
    }
   ],
   "source": [
    "cred"
   ]
  },
  {
   "cell_type": "code",
   "execution_count": 22,
   "metadata": {
    "collapsed": true
   },
   "outputs": [],
   "source": [
    "reddit = praw.Reddit(client_id=cred['auth']['client'], client_secret=cred['auth']['pass'], user_agent=cred['auth']['name'])"
   ]
  },
  {
   "cell_type": "code",
   "execution_count": 23,
   "metadata": {
    "collapsed": false
   },
   "outputs": [
    {
     "data": {
      "text/plain": [
       "<praw.reddit.Reddit at 0x110341320>"
      ]
     },
     "execution_count": 23,
     "metadata": {},
     "output_type": "execute_result"
    }
   ],
   "source": [
    "reddit"
   ]
  },
  {
   "cell_type": "code",
   "execution_count": 25,
   "metadata": {
    "collapsed": false
   },
   "outputs": [
    {
     "name": "stdout",
     "output_type": "stream",
     "text": [
      "Regarding beginner's guides\n",
      "[D] Machine Learning - WAYR (What Are You Reading) - Week 68\n",
      "[D] Why is PyTorch as fast as (and sometimes faster than) TensorFlow?\n",
      "[R] AdvHat: Real-world adversarial attack on ArcFace Face ID system\n",
      "[P] Introducing Deepkit - the first collaborative desktop app for deep learning experiments. Experiment tracking, model debugging, infrastructure management.\n",
      "[R] [1906.03671] Deep Batch Active Learning by Diverse, Uncertain Gradient Lower Bounds\n",
      "[N] [CFP] 3rd edition of Emergent Communication workshop at NeurIPS'19 (EmeCom)\n",
      "[D] Machine Learning - WAYR (What Are You Reading) - Week 69\n",
      "[R] FacebookAI releases Adaptive attention span and All-attention layer to reduce decrease computation time / memory footprint\n",
      "[D] How can I reduce the difference between real and predicted stock price?\n",
      "[D] Classification of irregular time series\n",
      "[D] Interview with two senior data scientists at Microsoft about deep learning\n",
      "[R] YOLACT: Real-time Instance Segmentation\n",
      "ADMM for Efficient Deep Learning with Global Convergence\n",
      "[D] Topological Data Analysis on time series\n",
      "[P] A data platform to label using AI and share datasets\n",
      "[D] Tests for comparing predictive accuracy of regression models\n",
      "[P] Pretrained human presence detection models?\n",
      "[P] OpenGPT-2: We Replicated GPT-2 Because You Can Too\n",
      "[R] A collection of notes on 150 papers in neural dialog modeling and related areas\n"
     ]
    }
   ],
   "source": [
    "# get 10 hot posts from the MachineLearning subreddit\n",
    "hot_posts = reddit.subreddit('MachineLearning').hot(limit=20)\n",
    "for post in hot_posts:\n",
    "    print(post.title)"
   ]
  },
  {
   "cell_type": "code",
   "execution_count": 36,
   "metadata": {
    "collapsed": false
   },
   "outputs": [
    {
     "name": "stdout",
     "output_type": "stream",
     "text": [
      "New to /r/personalfinance? Have questions? Read this first! 0\n",
      "Weekday Help and Victory Thread for the week of August 26, 2019 0\n",
      "Start thinking of \"saving money\" as \"making money\" instead. 165\n",
      "Attitude about finances matters a lot. Don't be a \"victim\" of your budget. 310\n",
      "How to stop living paycheck to paycheck? 34\n",
      "Stocks don't have to be scary (if you hold for long enough) 43\n",
      "21,151 CC Debt 22,000 Student Loan Debt just want advice 3\n",
      "Where to put future down payment money - savings account or principal repayment in current home? 2\n",
      "Need life advice on just about everything. 5\n",
      "Fixing all my debt slowly vs. using 401K funds 6\n"
     ]
    }
   ],
   "source": [
    "# get hottest posts from all subreddits\n",
    "hot_posts = reddit.subreddit('personalfinance').hot(limit=10)\n",
    "for post in hot_posts:\n",
    "    print(post.title,len(post.comments.list()))"
   ]
  },
  {
   "cell_type": "code",
   "execution_count": 41,
   "metadata": {
    "collapsed": false
   },
   "outputs": [],
   "source": [
    "posts = []\n",
    "ml_subreddit = reddit.subreddit('personalfinance')\n",
    "for post in ml_subreddit.hot(limit=40):\n",
    "    posts.append([post.title, post.score, post.id, post.subreddit, post.url, post.num_comments, post.selftext, post.created])\n",
    "posts = pd.DataFrame(posts,columns=['title', 'score', 'id', 'subreddit', 'url', 'num_comments', 'body', 'created'])\n"
   ]
  },
  {
   "cell_type": "code",
   "execution_count": 50,
   "metadata": {
    "collapsed": false
   },
   "outputs": [
    {
     "data": {
      "text/html": [
       "<div>\n",
       "<style>\n",
       "    .dataframe thead tr:only-child th {\n",
       "        text-align: right;\n",
       "    }\n",
       "\n",
       "    .dataframe thead th {\n",
       "        text-align: left;\n",
       "    }\n",
       "\n",
       "    .dataframe tbody tr th {\n",
       "        vertical-align: top;\n",
       "    }\n",
       "</style>\n",
       "<table border=\"1\" class=\"dataframe\">\n",
       "  <thead>\n",
       "    <tr style=\"text-align: right;\">\n",
       "      <th></th>\n",
       "      <th>title</th>\n",
       "      <th>score</th>\n",
       "      <th>id</th>\n",
       "      <th>subreddit</th>\n",
       "      <th>url</th>\n",
       "      <th>num_comments</th>\n",
       "      <th>body</th>\n",
       "      <th>created</th>\n",
       "    </tr>\n",
       "  </thead>\n",
       "  <tbody>\n",
       "    <tr>\n",
       "      <th>3</th>\n",
       "      <td>Attitude about finances matters a lot. Don't b...</td>\n",
       "      <td>3953</td>\n",
       "      <td>cv6ffb</td>\n",
       "      <td>personalfinance</td>\n",
       "      <td>https://www.reddit.com/r/personalfinance/comme...</td>\n",
       "      <td>328</td>\n",
       "      <td>Ive learned this recently and it really has ch...</td>\n",
       "      <td>1.566754e+09</td>\n",
       "    </tr>\n",
       "    <tr>\n",
       "      <th>2</th>\n",
       "      <td>Start thinking of \"saving money\" as \"making mo...</td>\n",
       "      <td>5970</td>\n",
       "      <td>cvbu8u</td>\n",
       "      <td>personalfinance</td>\n",
       "      <td>https://www.reddit.com/r/personalfinance/comme...</td>\n",
       "      <td>186</td>\n",
       "      <td>I'm no expert, but this simple change in thoug...</td>\n",
       "      <td>1.566785e+09</td>\n",
       "    </tr>\n",
       "    <tr>\n",
       "      <th>21</th>\n",
       "      <td>Someone is trying to gain access to multiple a...</td>\n",
       "      <td>310</td>\n",
       "      <td>cv4o0q</td>\n",
       "      <td>personalfinance</td>\n",
       "      <td>https://www.reddit.com/r/personalfinance/comme...</td>\n",
       "      <td>78</td>\n",
       "      <td>Sorry if this is the wrong place. I don’t know...</td>\n",
       "      <td>1.566740e+09</td>\n",
       "    </tr>\n",
       "    <tr>\n",
       "      <th>5</th>\n",
       "      <td>Stocks don't have to be scary (if you hold for...</td>\n",
       "      <td>138</td>\n",
       "      <td>cvabx2</td>\n",
       "      <td>personalfinance</td>\n",
       "      <td>https://www.reddit.com/r/personalfinance/comme...</td>\n",
       "      <td>46</td>\n",
       "      <td>Hi Personal Finance!\\n\\nI held back from index...</td>\n",
       "      <td>1.566778e+09</td>\n",
       "    </tr>\n",
       "    <tr>\n",
       "      <th>4</th>\n",
       "      <td>How to stop living paycheck to paycheck?</td>\n",
       "      <td>6</td>\n",
       "      <td>cvkwmx</td>\n",
       "      <td>personalfinance</td>\n",
       "      <td>https://www.reddit.com/r/personalfinance/comme...</td>\n",
       "      <td>35</td>\n",
       "      <td>So, I'm currently unemployed but looking for a...</td>\n",
       "      <td>1.566834e+09</td>\n",
       "    </tr>\n",
       "  </tbody>\n",
       "</table>\n",
       "</div>"
      ],
      "text/plain": [
       "                                                title  score      id  \\\n",
       "3   Attitude about finances matters a lot. Don't b...   3953  cv6ffb   \n",
       "2   Start thinking of \"saving money\" as \"making mo...   5970  cvbu8u   \n",
       "21  Someone is trying to gain access to multiple a...    310  cv4o0q   \n",
       "5   Stocks don't have to be scary (if you hold for...    138  cvabx2   \n",
       "4            How to stop living paycheck to paycheck?      6  cvkwmx   \n",
       "\n",
       "          subreddit                                                url  \\\n",
       "3   personalfinance  https://www.reddit.com/r/personalfinance/comme...   \n",
       "2   personalfinance  https://www.reddit.com/r/personalfinance/comme...   \n",
       "21  personalfinance  https://www.reddit.com/r/personalfinance/comme...   \n",
       "5   personalfinance  https://www.reddit.com/r/personalfinance/comme...   \n",
       "4   personalfinance  https://www.reddit.com/r/personalfinance/comme...   \n",
       "\n",
       "    num_comments                                               body  \\\n",
       "3            328  Ive learned this recently and it really has ch...   \n",
       "2            186  I'm no expert, but this simple change in thoug...   \n",
       "21            78  Sorry if this is the wrong place. I don’t know...   \n",
       "5             46  Hi Personal Finance!\\n\\nI held back from index...   \n",
       "4             35  So, I'm currently unemployed but looking for a...   \n",
       "\n",
       "         created  \n",
       "3   1.566754e+09  \n",
       "2   1.566785e+09  \n",
       "21  1.566740e+09  \n",
       "5   1.566778e+09  \n",
       "4   1.566834e+09  "
      ]
     },
     "execution_count": 50,
     "metadata": {},
     "output_type": "execute_result"
    }
   ],
   "source": [
    "posts.sort_values('num_comments',ascending=False).head()"
   ]
  },
  {
   "cell_type": "code",
   "execution_count": 43,
   "metadata": {
    "collapsed": true
   },
   "outputs": [],
   "source": [
    "# Obtain comments on the post about \"attitues about finance\"\n",
    "submission = reddit.submission(id=\"cv6ffb\")"
   ]
  },
  {
   "cell_type": "code",
   "execution_count": 76,
   "metadata": {
    "collapsed": false
   },
   "outputs": [
    {
     "data": {
      "text/plain": [
       "'True'"
      ]
     },
     "execution_count": 76,
     "metadata": {},
     "output_type": "execute_result"
    }
   ],
   "source": []
  },
  {
   "cell_type": "code",
   "execution_count": 79,
   "metadata": {
    "collapsed": false
   },
   "outputs": [],
   "source": [
    "submission.comments.replace_more(limit=0)\n",
    "attitude_cmt = []\n",
    "for comment in submission.comments.list():\n",
    "    c_ed = 'Unedited' if comment.edited==False else 'Edited'\n",
    "    attitude_cmt.append([comment.id,comment.body,comment.ups,comment.downs,comment.depth,comment.score,c_ed,comment.created])\n",
    "    #print(comment.body,comment.ups)\n",
    "df_att = pd.DataFrame(attitude_cmt,columns=['id', 'body', 'ups', 'downs', 'depth', 'score', 'edited', 'created'])"
   ]
  },
  {
   "cell_type": "code",
   "execution_count": 81,
   "metadata": {
    "collapsed": false
   },
   "outputs": [
    {
     "data": {
      "text/html": [
       "<div>\n",
       "<style>\n",
       "    .dataframe thead tr:only-child th {\n",
       "        text-align: right;\n",
       "    }\n",
       "\n",
       "    .dataframe thead th {\n",
       "        text-align: left;\n",
       "    }\n",
       "\n",
       "    .dataframe tbody tr th {\n",
       "        vertical-align: top;\n",
       "    }\n",
       "</style>\n",
       "<table border=\"1\" class=\"dataframe\">\n",
       "  <thead>\n",
       "    <tr style=\"text-align: right;\">\n",
       "      <th></th>\n",
       "      <th>id</th>\n",
       "      <th>body</th>\n",
       "      <th>ups</th>\n",
       "      <th>downs</th>\n",
       "      <th>depth</th>\n",
       "      <th>score</th>\n",
       "      <th>edited</th>\n",
       "      <th>created</th>\n",
       "    </tr>\n",
       "  </thead>\n",
       "  <tbody>\n",
       "    <tr>\n",
       "      <th>0</th>\n",
       "      <td>ey27v7c</td>\n",
       "      <td>Interesting perspective on considering afforda...</td>\n",
       "      <td>133</td>\n",
       "      <td>0</td>\n",
       "      <td>0</td>\n",
       "      <td>133</td>\n",
       "      <td>Unedited</td>\n",
       "      <td>1.566758e+09</td>\n",
       "    </tr>\n",
       "    <tr>\n",
       "      <th>1</th>\n",
       "      <td>ey2e57v</td>\n",
       "      <td>This is a good point. In college, I worked a m...</td>\n",
       "      <td>784</td>\n",
       "      <td>0</td>\n",
       "      <td>0</td>\n",
       "      <td>784</td>\n",
       "      <td>Unedited</td>\n",
       "      <td>1.566765e+09</td>\n",
       "    </tr>\n",
       "    <tr>\n",
       "      <th>2</th>\n",
       "      <td>ey26lfn</td>\n",
       "      <td>This also is a good way to perceive your money...</td>\n",
       "      <td>611</td>\n",
       "      <td>0</td>\n",
       "      <td>0</td>\n",
       "      <td>611</td>\n",
       "      <td>Unedited</td>\n",
       "      <td>1.566756e+09</td>\n",
       "    </tr>\n",
       "    <tr>\n",
       "      <th>3</th>\n",
       "      <td>ey2kaoe</td>\n",
       "      <td>I see a lot of posts on here where people regr...</td>\n",
       "      <td>39</td>\n",
       "      <td>0</td>\n",
       "      <td>0</td>\n",
       "      <td>39</td>\n",
       "      <td>Unedited</td>\n",
       "      <td>1.566771e+09</td>\n",
       "    </tr>\n",
       "    <tr>\n",
       "      <th>4</th>\n",
       "      <td>ey2agnc</td>\n",
       "      <td>My father is a retired auto mechanic. How much...</td>\n",
       "      <td>170</td>\n",
       "      <td>0</td>\n",
       "      <td>0</td>\n",
       "      <td>170</td>\n",
       "      <td>Edited</td>\n",
       "      <td>1.566761e+09</td>\n",
       "    </tr>\n",
       "  </tbody>\n",
       "</table>\n",
       "</div>"
      ],
      "text/plain": [
       "        id                                               body  ups  downs  \\\n",
       "0  ey27v7c  Interesting perspective on considering afforda...  133      0   \n",
       "1  ey2e57v  This is a good point. In college, I worked a m...  784      0   \n",
       "2  ey26lfn  This also is a good way to perceive your money...  611      0   \n",
       "3  ey2kaoe  I see a lot of posts on here where people regr...   39      0   \n",
       "4  ey2agnc  My father is a retired auto mechanic. How much...  170      0   \n",
       "\n",
       "   depth  score    edited       created  \n",
       "0      0    133  Unedited  1.566758e+09  \n",
       "1      0    784  Unedited  1.566765e+09  \n",
       "2      0    611  Unedited  1.566756e+09  \n",
       "3      0     39  Unedited  1.566771e+09  \n",
       "4      0    170    Edited  1.566761e+09  "
      ]
     },
     "execution_count": 81,
     "metadata": {},
     "output_type": "execute_result"
    }
   ],
   "source": [
    "df_att.head()"
   ]
  },
  {
   "cell_type": "code",
   "execution_count": 82,
   "metadata": {
    "collapsed": false
   },
   "outputs": [],
   "source": [
    "df_att.to_pickle('./data/attitudes_to_finance.pkl')"
   ]
  }
 ],
 "metadata": {
  "kernelspec": {
   "display_name": "Python 3",
   "language": "python",
   "name": "python3"
  },
  "language_info": {
   "codemirror_mode": {
    "name": "ipython",
    "version": 3
   },
   "file_extension": ".py",
   "mimetype": "text/x-python",
   "name": "python",
   "nbconvert_exporter": "python",
   "pygments_lexer": "ipython3",
   "version": "3.5.3"
  }
 },
 "nbformat": 4,
 "nbformat_minor": 0
}
